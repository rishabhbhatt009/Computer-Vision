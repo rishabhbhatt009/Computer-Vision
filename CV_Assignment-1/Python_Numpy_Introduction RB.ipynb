{
 "cells": [
  {
   "cell_type": "markdown",
   "metadata": {},
   "source": [
    "<h1 align=center><font size = 5 color=black>Computer Vision Assignment-1</font></h1>\n",
    "<hr style=\"border:0.01px solid black\"> </hr>\n",
    "\n",
    "**Name** : Rishabh Bhatt   \n",
    "**Part-1** : Python Basics    \n",
    "**Submission** : Feb 01, 2022"
   ]
  },
  {
   "cell_type": "markdown",
   "metadata": {
    "id": "3q4llFOQmyHN"
   },
   "source": [
    "### Basic data types"
   ]
  },
  {
   "cell_type": "code",
   "execution_count": 1,
   "metadata": {
    "code_folding": [],
    "id": "UccS9GLXm2Q7"
   },
   "outputs": [
    {
     "name": "stdout",
     "output_type": "stream",
     "text": [
      "Type of x                      : <class 'int'>\n",
      "Adding 1 to x                  : 4\n",
      "Subtracting 1 from x           : 3\n",
      "Multiplying x with 2           : 3\n",
      "Square of x                    : 9\n"
     ]
    }
   ],
   "source": [
    "# Integers\n",
    "x = 3\n",
    "out = '{0:<%d} : {1}'%(30)\n",
    "\n",
    "# print the type of x\n",
    "print(out.format('Type of x', str(type(x))))\n",
    "\n",
    "# Addition : add 1 to x and print the result\n",
    "print(out.format('Adding 1 to x', x+1))\n",
    "\n",
    "# Subtraction; subtract 1 from x and print the result\n",
    "print(out.format('Subtracting 1 from x', x))\n",
    "\n",
    "# Multiplication; multiply x with 2 and print the result\n",
    "print(out.format('Multiplying x with 2', x))\n",
    "\n",
    "# Exponentiation; print the square of x\n",
    "print(out.format('Square of x', x**2))"
   ]
  },
  {
   "cell_type": "code",
   "execution_count": 2,
   "metadata": {
    "id": "gDNf97w0oSxB"
   },
   "outputs": [
    {
     "name": "stdout",
     "output_type": "stream",
     "text": [
      "Type of y                      : <class 'float'>\n",
      "Double of y                    : 5.0\n",
      "Add 3 to y                     : 8.0\n"
     ]
    }
   ],
   "source": [
    "#floats\n",
    "y = 2.5\n",
    "#print the type of y\n",
    "print(out.format('Type of y', str(type(y))))\n",
    "\n",
    "#use operator *= to double the value of y and print y \n",
    "y *= 2\n",
    "print(out.format('Double of y', y))\n",
    "\n",
    "#use operator += to add 3 to y and print y \n",
    "y += 3\n",
    "print(out.format('Add 3 to y', y))"
   ]
  },
  {
   "cell_type": "code",
   "execution_count": 3,
   "metadata": {
    "id": "4xaTfgDyozmB"
   },
   "outputs": [
    {
     "name": "stdout",
     "output_type": "stream",
     "text": [
      "Capitalized                    : Hello\n",
      "Upper Case                     : HELLO\n",
      "Right Justified with padding   :   hello\n",
      "Center Justified with padding  :  hello \n",
      "Replaced                       : he(ell)(ell)o\n",
      "Stripped                       : world\n"
     ]
    }
   ],
   "source": [
    "# Strings\n",
    "s = \"hello\"\n",
    "\n",
    "# Capitalize the above string and print it\n",
    "print(out.format('Capitalized',s.capitalize()))\n",
    "\n",
    "# Convert the string to uppercase and print it\n",
    "s_new = s.upper()\n",
    "print(out.format('Upper Case',s_new))\n",
    "      \n",
    "# Right-justify the string, padding with 2 spaces print it;\n",
    "print(out.format('Right Justified with padding',s.rjust(2+len(s))))\n",
    "\n",
    "# Center the string, padding with 2 spaces print it;\n",
    "print(out.format('Center Justified with padding',s.center(2+len(s))))\n",
    "\n",
    "# Replace all instances of letter l  with \"(ell)\" and print it;\n",
    "print(out.format('Replaced',s.replace('l','(ell)')))\n",
    "\n",
    "st = \" world \"\n",
    "# Strip leading and trailing whitespace in the above string and print\n",
    "print(out.format('Stripped',st.strip()))"
   ]
  },
  {
   "cell_type": "markdown",
   "metadata": {
    "id": "ZRK4igr0r5Qc"
   },
   "source": [
    "### Containers"
   ]
  },
  {
   "cell_type": "code",
   "execution_count": 4,
   "metadata": {
    "colab": {
     "base_uri": "https://localhost:8080/"
    },
    "id": "tkt3cWoYrCop",
    "outputId": "1d36a0c8-51b4-42dc-ecbc-792cc6fc4a1e"
   },
   "outputs": [
    {
     "name": "stdout",
     "output_type": "stream",
     "text": [
      "List1                          : [1, 2, 3, 4]\n",
      "List1 updated                  : [1, 2, 'foo', 4]\n",
      "List1 + List2                  : [1, 2, 'foo', 4, 'bar']\n",
      "List1 extended                 : [1, 2, 'foo', 4, 'bar', 'bar']\n",
      "List1 poped                    : [1, 2, 'foo', 4, 'bar']\n"
     ]
    }
   ],
   "source": [
    "#Lists\n",
    "#create a list of first five natural numbers\n",
    "list1 = [1,2,3,4]\n",
    "print(out.format('List1',list1))\n",
    "#change the 3rd element to \"foo\" and print list1\n",
    "list1[2] = 'foo'\n",
    "print(out.format('List1 updated',list1))\n",
    "list2 = [\"bar\"]\n",
    "#append list2 to list1 and print the result\n",
    "list1 += list2\n",
    "print(out.format('List1 + List2',list1))\n",
    "#add list2 to list1 using extend and print the result\n",
    "list1.extend(list2)\n",
    "print(out.format('List1 extended',list1))\n",
    "#remove last element in list1 using pop and print list1\n",
    "list1.pop()\n",
    "print(out.format('List1 poped',list1))"
   ]
  },
  {
   "cell_type": "code",
   "execution_count": 5,
   "metadata": {
    "colab": {
     "base_uri": "https://localhost:8080/"
    },
    "id": "fcayPpYjtla-",
    "outputId": "cd679685-962c-4495-8c3c-e5e55585b0b8"
   },
   "outputs": [
    {
     "name": "stdout",
     "output_type": "stream",
     "text": [
      "Nums                           : [0, 1, 2, 3, 4]\n",
      "Nums slice 2 to 4 (exclusive)  : [2, 3]\n",
      "Nums slice 2 to 4 (exclusive)  : [2, 3]\n",
      "Nums negative slice            : [0, 1]\n",
      "Nums updated                   : [0, 1, 8, 9, 4]\n"
     ]
    }
   ],
   "source": [
    "#Slicing \n",
    "nums = list(range(5))\n",
    "print(out.format('Nums',nums))\n",
    "#print a slice from index 2 to 4 (exclusive)\n",
    "print(out.format('Nums slice 2 to 4 (exclusive)',nums[2:4]))\n",
    "#print a slice from index 2 to 4 (exclusive)\n",
    "print(out.format('Nums slice 2 to 4 (exclusive)',nums[2:4]))\n",
    "# Slice indices can be negative; \n",
    "print(out.format('Nums negative slice',nums[:-3]))\n",
    "# Assign the [8,9] new list to a slice from index 2 to 4 (exclusive)\n",
    "nums[2:4] = [8,9]\n",
    "print(out.format('Nums updated',nums))"
   ]
  },
  {
   "cell_type": "code",
   "execution_count": 6,
   "metadata": {
    "id": "v-PI9dt3uxkx"
   },
   "outputs": [
    {
     "name": "stdout",
     "output_type": "stream",
     "text": [
      "Nums                           : [0, 1, 2, 3, 4]\n",
      "Square                         : [0, 1, 4, 9, 16]\n",
      "Animals                        : ['cat', 'dog', 'monkey']\n",
      "Enumerating                    : \n",
      "----------------------------------------------------------------------\n",
      "0 : cat\n",
      "1 : dog\n",
      "2 : monkey\n",
      "----------------------------------------------------------------------\n",
      "Nums                           : [0, 1, 2, 3, 4]\n",
      "Square of even numbers         : [0, 4, 16]\n"
     ]
    }
   ],
   "source": [
    "#Loops\n",
    "nums = [0, 1, 2, 3, 4]\n",
    "print(out.format('Nums',nums))\n",
    "squares = []\n",
    "# append squares of each element in nums to squares using for loop\n",
    "for num in nums: \n",
    "    squares.append(num**2)\n",
    "\n",
    "print(out.format('Square',squares))\n",
    "####\n",
    "animals = ['cat', 'dog', 'monkey']\n",
    "print(out.format('Animals',animals))\n",
    "#print index and elements in the list using enumerate and for loop\n",
    "print(out.format('Enumerating',''))\n",
    "print('-'*70)\n",
    "for i,val in enumerate(animals):\n",
    "    print (i,':',val)\n",
    "print('-'*70)\n",
    "#print squares of even numbers using list comprehensions\n",
    "nums = [0, 1, 2, 3, 4]\n",
    "print(out.format('Nums',nums))\n",
    "even_squares = [(i**2) for i in nums if i%2 == 0]\n",
    "print(out.format('Square of even numbers',even_squares))"
   ]
  },
  {
   "cell_type": "code",
   "execution_count": 7,
   "metadata": {
    "id": "Odzrj6_Nv51m"
   },
   "outputs": [
    {
     "name": "stdout",
     "output_type": "stream",
     "text": [
      "Dictionary                     : {'cat': 'cute', 'dog': 'furry'}\n",
      "Dictionary fish added          : {'cat': 'cute', 'dog': 'furry', 'fish': 'wet'}\n",
      "Dictionary cat removed         : {'dog': 'furry', 'fish': 'wet'}\n",
      "Get monkey                     : N/A\n",
      "Get fish                       : wet\n",
      "Keys of Dict                   : ['dog', 'fish']\n",
      "Keys of Dict                   : [('dog', 'furry'), ('fish', 'wet')]\n"
     ]
    }
   ],
   "source": [
    "#Dictionaries\n",
    "#create a dictionary with keys = (cat, dog) and items = (cute,furry)\n",
    "keys = ('cat','dog')\n",
    "items = ('cute','furry')\n",
    "d = dict(zip(keys,items))\n",
    "print(out.format('Dictionary',d))\n",
    "\n",
    "#set an entry {fish:wet}\n",
    "d['fish'] = 'wet'\n",
    "print(out.format('Dictionary fish added',d))\n",
    "#remove the entry with key= cat \n",
    "del d['cat']\n",
    "print(out.format('Dictionary cat removed',d))\n",
    "\n",
    "# Get an element with a default;\n",
    "print(out.format('Get monkey',d.get('monkey', 'N/A')))\n",
    "\n",
    "# get an element with key= fish and print it\n",
    "print(out.format('Get fish',d.get('fish', 'N/A')))\n",
    "\n",
    "#print all keys in dictionary\n",
    "print(out.format('Keys of Dict',list(d.keys())))\n",
    "#print all items in dictionary\n",
    "print(out.format('Keys of Dict',list(d.items())))"
   ]
  },
  {
   "cell_type": "code",
   "execution_count": 8,
   "metadata": {
    "id": "DAZXgnPqwNrB"
   },
   "outputs": [
    {
     "name": "stdout",
     "output_type": "stream",
     "text": [
      "Set                            : {'cat', 'dog', 'fish'}\n",
      "Set with monkey added          : {'cat', 'dog', 'fish', 'monkey'}\n",
      "Set with fish removed          : {'cat', 'dog', 'monkey'}\n",
      "If an element is in the set    : False\n"
     ]
    }
   ],
   "source": [
    "#sets \n",
    "#create a set with elements cat, dog and fish\n",
    "s = {'cat','dog','fish'}\n",
    "print(out.format('Set',s))\n",
    "#add monkey to the set\n",
    "s.add('monkey')\n",
    "print(out.format('Set with monkey added',s))\n",
    "#remove fish from the set \n",
    "s.remove('fish')\n",
    "print(out.format('Set with fish removed',s))\n",
    "#checks if an element is in the set\n",
    "print(out.format('If an element is in the set',('fish' in animals)))"
   ]
  },
  {
   "cell_type": "markdown",
   "metadata": {
    "id": "1hOHkVTbFVk8"
   },
   "source": [
    "### Numpy"
   ]
  },
  {
   "cell_type": "code",
   "execution_count": 9,
   "metadata": {
    "id": "uG2OTLa9FTqL"
   },
   "outputs": [
    {
     "name": "stdout",
     "output_type": "stream",
     "text": [
      "(2, 3) \n",
      "\n",
      "[[0. 0.]\n",
      " [0. 0.]] \n",
      "\n",
      "[[1. 1.]] \n",
      "\n",
      "[[7 7 7]\n",
      " [7 7 7]\n",
      " [7 7 7]] \n",
      "\n",
      "[[0.14667414 0.20298965]\n",
      " [0.17098709 0.9699472 ]] \n",
      "\n"
     ]
    }
   ],
   "source": [
    "#importing the numpy package \n",
    "import numpy as np\n",
    "b = np.array([[1,2,3],[4,5,6]])    # Create a rank 2 array\n",
    "#print the shape of the array\n",
    "print (b.shape,'\\n')\n",
    "#print an array of all zeros of shape(2,2)\n",
    "print (np.zeros((2,2)),'\\n')\n",
    "#print an array of all ones of shape(1,2)\n",
    "print (np.ones((1,2)),'\\n')\n",
    "#print an array of shape (3,3) with all elements in array = 7\n",
    "print (np.full((3,3),7),'\\n')\n",
    "#print an array filled with random values of shape (2,2)\n",
    "print (np.random.rand(2,2),'\\n')"
   ]
  },
  {
   "cell_type": "code",
   "execution_count": 10,
   "metadata": {
    "id": "IYiYxnHYP2L5"
   },
   "outputs": [
    {
     "name": "stdout",
     "output_type": "stream",
     "text": [
      "[[2 3]\n",
      " [6 7]]\n",
      "\n",
      "[ 1  6  7 11]\n",
      "\n",
      "[[11  2  3]\n",
      " [ 4  5 16]\n",
      " [17  8  9]\n",
      " [10 21 12]]\n"
     ]
    }
   ],
   "source": [
    "#ARRAY INDEXING\n",
    "a = np.array([[1,2,3,4], [5,6,7,8], [9,10,11,12]])\n",
    "#print(a)\n",
    "\n",
    "# Use slicing to print out the subarray consisting of the first 2 rows and columns 1 and 2;\n",
    "print (a[:2,[1,2]])\n",
    "print ()\n",
    "a = np.array([[1,2,3], [4,5,6], [7,8,9], [10, 11, 12]])\n",
    "b = np.array([0, 2, 0, 1])\n",
    "\n",
    "# print one element from each row of a using the indices in b\n",
    "print (a [list(range(b.shape[0])),[0,2,0,1]])\n",
    "print ()\n",
    "\n",
    "# add 10 to one element from each row of a using the indices in b\n",
    "a [list(range(b.shape[0])),[0,2,0,1]] += 10\n",
    "print (a)"
   ]
  },
  {
   "cell_type": "code",
   "execution_count": 11,
   "metadata": {
    "id": "OYsgl7PtSzq-"
   },
   "outputs": [
    {
     "name": "stdout",
     "output_type": "stream",
     "text": [
      "[[False False]\n",
      " [ True  True]\n",
      " [ True  True]]\n",
      "\n",
      "[3 4 5 6]\n",
      "\n",
      "<class 'numpy.ndarray'>\n",
      "int32\n",
      "[[1 2]\n",
      " [3 4]]\n"
     ]
    }
   ],
   "source": [
    "#Boolean array indexing\n",
    "a = np.array([[1,2], [3, 4], [5, 6]])\n",
    "\n",
    "#Print a numpy array of Booleans where elements of a are bigger than 2 ,shape=(3,2)\n",
    "print (a>2)\n",
    "print ()\n",
    "\n",
    "#a rank 1 array consisting of the elements of a that are bigger than 2\n",
    "print (a[a>2])\n",
    "print ()\n",
    "\n",
    "x = np.array([1, 2]) \n",
    "#print data type of the array\n",
    "print (type(a))\n",
    "print (a.dtype)\n",
    "\n",
    "#create an array [[1,2],[3,4]] with data type int64.\n",
    "b = np.array([[1,2],[3,4]], dtype='int64')\n",
    "print (b)"
   ]
  },
  {
   "cell_type": "code",
   "execution_count": 12,
   "metadata": {
    "id": "VZoDHzWSUk3_"
   },
   "outputs": [
    {
     "name": "stdout",
     "output_type": "stream",
     "text": [
      "[[ 6.  8.]\n",
      " [10. 12.]]\n",
      "\n",
      "[[-4. -4.]\n",
      " [-4. -4.]]\n",
      "\n",
      "[[ 5. 12.]\n",
      " [21. 32.]]\n",
      "\n",
      "[[0.2        0.33333333]\n",
      " [0.42857143 0.5       ]]\n",
      "\n",
      "[[1.         1.41421356]\n",
      " [1.73205081 2.        ]]\n",
      "[[2.23606798 2.44948974]\n",
      " [2.64575131 2.82842712]]\n"
     ]
    }
   ],
   "source": [
    "#Array math\n",
    "x = np.array([[1,2],[3,4]], dtype=np.float64)\n",
    "y = np.array([[5,6],[7,8]], dtype=np.float64)\n",
    "\n",
    "#print elementwise addition using numpy function\n",
    "print (np.add(x,y))\n",
    "print ()\n",
    "\n",
    "#print elementwise difference using numpy function\n",
    "print (np.subtract(x,y))\n",
    "print ()\n",
    "\n",
    "#print elementwise multiplication using numpy function\n",
    "print (np.multiply(x,y))\n",
    "print ()\n",
    "\n",
    "#print elementwise division using numpy function\n",
    "print (np.divide(x,y))\n",
    "print ()\n",
    "\n",
    "#print elementwise square root using numpy function\n",
    "print (np.sqrt(x))\n",
    "print (np.sqrt(y))"
   ]
  },
  {
   "cell_type": "code",
   "execution_count": 13,
   "metadata": {
    "id": "TmMfplkRVZIu"
   },
   "outputs": [
    {
     "name": "stdout",
     "output_type": "stream",
     "text": [
      "219\n",
      "\n",
      "[29 67]\n",
      "\n",
      "[[19 22]\n",
      " [43 50]]\n"
     ]
    }
   ],
   "source": [
    "x = np.array([[1,2],[3,4]])\n",
    "y = np.array([[5,6],[7,8]])\n",
    "\n",
    "v = np.array([9,10])\n",
    "w = np.array([11, 12])\n",
    "\n",
    "#print Inner product of vectors\n",
    "print (np.inner(v,w))\n",
    "print ()\n",
    "\n",
    "#print matrix / vector product of x and v \n",
    "print (np.matmul(x,v))\n",
    "print ()\n",
    "\n",
    "#print matrix / vector product of x and y \n",
    "print (np.matmul(x,y))"
   ]
  },
  {
   "cell_type": "code",
   "execution_count": 14,
   "metadata": {
    "id": "5_Iy6xwGXVS8"
   },
   "outputs": [
    {
     "name": "stdout",
     "output_type": "stream",
     "text": [
      "10\n",
      "[3 7]\n",
      "[4 6]\n"
     ]
    }
   ],
   "source": [
    "x = np.array([[1,2],[3,4]])\n",
    "#print sum of all elements in array\n",
    "print (x.sum())\n",
    "#print sum of elements in each row\n",
    "print (x.sum(axis=1))\n",
    "#print sum of elements in each column\n",
    "print (x.sum(axis=0))"
   ]
  },
  {
   "cell_type": "code",
   "execution_count": 15,
   "metadata": {
    "id": "dwkaL3GSZiBl"
   },
   "outputs": [
    {
     "name": "stdout",
     "output_type": "stream",
     "text": [
      "[[1.59265468e-311 3.16202013e-322 0.00000000e+000]\n",
      " [0.00000000e+000 0.00000000e+000 6.23757186e+174]\n",
      " [3.53781476e-061 8.24381023e-043 3.45115315e-032]\n",
      " [6.17863904e-042 4.27407215e-033 3.40559164e+175]]\n",
      "\n",
      "[[ 2  2  4]\n",
      " [ 5  5  7]\n",
      " [ 8  8 10]\n",
      " [11 11 13]]\n",
      "\n",
      "[[ 2  2  4]\n",
      " [ 5  5  7]\n",
      " [ 8  8 10]\n",
      " [11 11 13]]\n"
     ]
    }
   ],
   "source": [
    "x = np.array([[1,2,3], [4,5,6], [7,8,9], [10, 11, 12]])\n",
    "v = np.array([1, 0, 1])\n",
    "\n",
    "#Create an empty matrix with the same shape as x and print\n",
    "y = np.empty(x.shape)\n",
    "print (y)\n",
    "print ()\n",
    "\n",
    "# create an array y by adding  the vector v to each row of the matrix x with an explicit loop \n",
    "#print y\n",
    "y = x.copy()\n",
    "for i in range(y.shape[0]):\n",
    "    y[i] += v\n",
    "print (y)\n",
    "print () \n",
    "\n",
    "#Add v to each row of x using broadcasting\n",
    "#store the result in matrix y and print y\n",
    "y_brd = x+v\n",
    "print (y_brd)"
   ]
  },
  {
   "cell_type": "code",
   "execution_count": 16,
   "metadata": {
    "id": "apNuOG-_bomv"
   },
   "outputs": [
    {
     "name": "stdout",
     "output_type": "stream",
     "text": [
      "[[1]\n",
      " [2]\n",
      " [3]]\n"
     ]
    }
   ],
   "source": [
    "v = np.array([1,2,3])  \n",
    "w = np.array([4,5])\n",
    "#reshape v to(3,1) using numpy function and print it\n",
    "v = np.reshape(v,(3,1))\n",
    "print (v)"
   ]
  },
  {
   "cell_type": "markdown",
   "metadata": {},
   "source": [
    "<hr style=\"border:0.01px solid black\"> </hr>"
   ]
  }
 ],
 "metadata": {
  "colab": {
   "collapsed_sections": [],
   "name": "HW1.ipynb",
   "provenance": []
  },
  "hide_input": false,
  "kernelspec": {
   "display_name": "Python 3 (ipykernel)",
   "language": "python",
   "name": "python3"
  },
  "language_info": {
   "codemirror_mode": {
    "name": "ipython",
    "version": 3
   },
   "file_extension": ".py",
   "mimetype": "text/x-python",
   "name": "python",
   "nbconvert_exporter": "python",
   "pygments_lexer": "ipython3",
   "version": "3.8.12"
  },
  "toc": {
   "base_numbering": 1,
   "nav_menu": {},
   "number_sections": true,
   "sideBar": true,
   "skip_h1_title": false,
   "title_cell": "Table of Contents",
   "title_sidebar": "Contents",
   "toc_cell": false,
   "toc_position": {},
   "toc_section_display": true,
   "toc_window_display": false
  },
  "varInspector": {
   "cols": {
    "lenName": 16,
    "lenType": 16,
    "lenVar": 40
   },
   "kernels_config": {
    "python": {
     "delete_cmd_postfix": "",
     "delete_cmd_prefix": "del ",
     "library": "var_list.py",
     "varRefreshCmd": "print(var_dic_list())"
    },
    "r": {
     "delete_cmd_postfix": ") ",
     "delete_cmd_prefix": "rm(",
     "library": "var_list.r",
     "varRefreshCmd": "cat(var_dic_list()) "
    }
   },
   "types_to_exclude": [
    "module",
    "function",
    "builtin_function_or_method",
    "instance",
    "_Feature"
   ],
   "window_display": false
  }
 },
 "nbformat": 4,
 "nbformat_minor": 1
}
